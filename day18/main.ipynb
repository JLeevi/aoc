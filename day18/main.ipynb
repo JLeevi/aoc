{
 "cells": [
  {
   "cell_type": "code",
   "execution_count": 1,
   "metadata": {},
   "outputs": [
    {
     "name": "stdout",
     "output_type": "stream",
     "text": [
      "ans1 = 62573\n",
      "ans2 = 54662804037719\n"
     ]
    }
   ],
   "source": [
    "input_file = \"data/input.txt\"\n",
    "\n",
    "STEP = {\n",
    "    \"R\": (1, 0),\n",
    "    \"D\": (0, -1),\n",
    "    \"L\": (-1, 0),\n",
    "    \"U\": (0, 1),\n",
    "}\n",
    "\n",
    "CODE_TO_DIRECTION = {\n",
    "    \"0\": \"R\",\n",
    "    \"1\": \"D\",\n",
    "    \"2\": \"L\",\n",
    "    \"3\": \"U\"\n",
    "}\n",
    "\n",
    "def parse_steps(line, part):\n",
    "    direction1, steps1, steps2 = line.split()\n",
    "    steps1 = int(steps1)\n",
    "    if part == 1:\n",
    "        return steps1, direction1\n",
    "\n",
    "    steps2 = steps2.strip(\"(#)\")\n",
    "    direction2, steps2 = CODE_TO_DIRECTION[steps2[-1]], steps2[:-1]\n",
    "    steps2 = int(steps2, base=16)\n",
    "    return steps2, direction2\n",
    "\n",
    "def shoelace(polygon):\n",
    "    area = 0\n",
    "    for i in range(len(polygon) - 1):\n",
    "        p1x, p1y = polygon[i]\n",
    "        p2x, p2y = polygon[i+1]\n",
    "        area += (p1x*p2y - p2x*p1y)\n",
    "    return abs(area // 2)\n",
    "\n",
    "def calculate_polygon(lines, part):\n",
    "    coordinates = (0, 0)\n",
    "    polygon = []\n",
    "    n_boundary_points = 0\n",
    "    for line in lines:\n",
    "        steps, direction = parse_steps(line, part)\n",
    "        dx, dy = STEP[direction]\n",
    "        n_boundary_points += steps\n",
    "        x, y = coordinates\n",
    "        coordinates = (x + (steps * dx), y + (steps * dy))\n",
    "        polygon.append(coordinates)\n",
    "    return polygon, n_boundary_points\n",
    "\n",
    "def calculate_total_points(area, boundary_points):\n",
    "    interior_points = area - (boundary_points // 2) + 1\n",
    "    return interior_points + boundary_points\n",
    "\n",
    "with open(input_file, 'r') as f:\n",
    "    lines = [l.strip() for l in f.readlines()]\n",
    "\n",
    "    polygon1, boundary_points1 = calculate_polygon(lines, 1)\n",
    "    polygon2, boundary_points2 = calculate_polygon(lines, 2)\n",
    "\n",
    "    area1 = shoelace(polygon1)\n",
    "    area2 = shoelace(polygon2)\n",
    "\n",
    "    ans1 = calculate_total_points(area1, boundary_points1)\n",
    "    ans2 = calculate_total_points(area2, boundary_points2)\n",
    "\n",
    "    print(f\"{ans1 = }\")\n",
    "    print(f\"{ans2 = }\")"
   ]
  }
 ],
 "metadata": {
  "kernelspec": {
   "display_name": "base",
   "language": "python",
   "name": "python3"
  },
  "language_info": {
   "codemirror_mode": {
    "name": "ipython",
    "version": 3
   },
   "file_extension": ".py",
   "mimetype": "text/x-python",
   "name": "python",
   "nbconvert_exporter": "python",
   "pygments_lexer": "ipython3",
   "version": "3.9.7"
  }
 },
 "nbformat": 4,
 "nbformat_minor": 2
}
