{
 "cells": [
  {
   "cell_type": "code",
   "execution_count": 1,
   "metadata": {},
   "outputs": [
    {
     "name": "stdout",
     "output_type": "stream",
     "text": [
      "ans1 = 24733\n",
      "ans2 = 5422730\n"
     ]
    }
   ],
   "source": [
    "import regex as re\n",
    "from collections import defaultdict\n",
    "\n",
    "input_file = \"data/input.txt\"\n",
    "\n",
    "def parse_numbers(text):\n",
    "    return [int(c) for c in re.findall(f\"\\d+\", text)]\n",
    "\n",
    "def get_num_matches(winning, numbers):\n",
    "    return len([1 for n in numbers if n in winning])\n",
    "\n",
    "def get_points(n_matches):\n",
    "    if n_matches == 0:\n",
    "        return 0\n",
    "    return 2 ** (n_matches - 1)\n",
    "\n",
    "with open(input_file, 'r') as f:\n",
    "    lines = [l.strip() for l in f.readlines()]\n",
    "    cards = defaultdict(int)\n",
    "    ans1 = 0\n",
    "    for card_id, line in enumerate(lines, 1):\n",
    "        cards[card_id] += 1\n",
    "        winning, numbers = line.split(\"|\")\n",
    "        winning = winning.split(\":\")[1]\n",
    "        winning = parse_numbers(winning)\n",
    "        numbers = parse_numbers(numbers)\n",
    "        matches = get_num_matches(winning, numbers)\n",
    "        ans1 += get_points(matches)\n",
    "        for i in range(card_id+1, card_id+matches+1):\n",
    "            cards[i] += cards[card_id]\n",
    "    ans2 = sum(cards.values())\n",
    "    print(f\"{ans1 = }\")\n",
    "    print(f\"{ans2 = }\")\n"
   ]
  }
 ],
 "metadata": {
  "kernelspec": {
   "display_name": "base",
   "language": "python",
   "name": "python3"
  },
  "language_info": {
   "codemirror_mode": {
    "name": "ipython",
    "version": 3
   },
   "file_extension": ".py",
   "mimetype": "text/x-python",
   "name": "python",
   "nbconvert_exporter": "python",
   "pygments_lexer": "ipython3",
   "version": "3.9.7"
  }
 },
 "nbformat": 4,
 "nbformat_minor": 2
}
