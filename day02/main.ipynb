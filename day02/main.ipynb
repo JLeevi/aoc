{
 "cells": [
  {
   "cell_type": "code",
   "execution_count": 1,
   "metadata": {},
   "outputs": [],
   "source": [
    "import regex as re"
   ]
  },
  {
   "cell_type": "code",
   "execution_count": 2,
   "metadata": {},
   "outputs": [
    {
     "name": "stdout",
     "output_type": "stream",
     "text": [
      "id_sum = 2416\n",
      "powers = 63307\n"
     ]
    }
   ],
   "source": [
    "input_file = \"data/input.txt\"\n",
    "\n",
    "def get_game_id(line: str):\n",
    "    return int(re.findall(f\"Game (\\d+):\", line)[0])\n",
    "\n",
    "def get_color(color, line):\n",
    "    return max(int(c) for c in re.findall(f\"(\\d+) {color}\", line))\n",
    "\n",
    "def is_valid(red, green, blue):\n",
    "    return red <= 12 and green <= 13 and blue <= 14\n",
    "\n",
    "with open(input_file, 'r') as f:\n",
    "    lines = [l.strip() for l in f.readlines()]\n",
    "    id_sum = 0\n",
    "    powers = 0\n",
    "    for l in lines:\n",
    "        game_id = get_game_id(l)\n",
    "        red = get_color(\"red\", l)\n",
    "        green = get_color(\"green\", l)\n",
    "        blue = get_color(\"blue\", l)\n",
    "        valid = is_valid(red, green, blue)\n",
    "        id_sum += valid * game_id\n",
    "        powers += red * green * blue\n",
    "    print(f\"{id_sum = }\")\n",
    "    print(f\"{powers = }\")\n"
   ]
  }
 ],
 "metadata": {
  "kernelspec": {
   "display_name": "base",
   "language": "python",
   "name": "python3"
  },
  "language_info": {
   "codemirror_mode": {
    "name": "ipython",
    "version": 3
   },
   "file_extension": ".py",
   "mimetype": "text/x-python",
   "name": "python",
   "nbconvert_exporter": "python",
   "pygments_lexer": "ipython3",
   "version": "3.9.7"
  }
 },
 "nbformat": 4,
 "nbformat_minor": 2
}
