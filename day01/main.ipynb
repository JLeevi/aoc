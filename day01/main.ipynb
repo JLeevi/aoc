{
 "cells": [
  {
   "cell_type": "code",
   "execution_count": 7,
   "metadata": {},
   "outputs": [],
   "source": [
    "import regex as re"
   ]
  },
  {
   "cell_type": "code",
   "execution_count": 8,
   "metadata": {},
   "outputs": [],
   "source": [
    "def get_count(lines):\n",
    "    s = 0\n",
    "    for line in lines:\n",
    "        numbers = []\n",
    "        for character in line:\n",
    "            if character.isdigit():\n",
    "                numbers.append(character)\n",
    "        first = numbers[0]\n",
    "        last = numbers[-1]\n",
    "        digit = int(first + last)\n",
    "        s += digit\n",
    "    return s"
   ]
  },
  {
   "cell_type": "code",
   "execution_count": 9,
   "metadata": {},
   "outputs": [],
   "source": [
    "table = {\n",
    "    \"one\": \"1\",\n",
    "    \"two\": \"2\",\n",
    "    \"three\": \"3\",\n",
    "    \"four\": \"4\",\n",
    "    \"five\": \"5\",\n",
    "    \"six\": \"6\",\n",
    "    \"seven\": \"7\",\n",
    "    \"eight\": \"8\",\n",
    "    \"nine\": \"9\",\n",
    "}\n",
    "\n",
    "def get_count2(lines):\n",
    "    s = 0\n",
    "    for line in lines:\n",
    "        numbers = []\n",
    "        keys_pattern = \"|\".join(table.keys())\n",
    "        rdigits = f\"(\\d|{keys_pattern})\"\n",
    "        matches = re.findall(rdigits, line, overlapped=True)\n",
    "        for m in matches:\n",
    "            if m in table:\n",
    "                numbers.append(table[m])\n",
    "            else:\n",
    "                numbers.append(m)\n",
    "        first, last = numbers[0], numbers[-1]\n",
    "        number = int(first + last)\n",
    "        s += number\n",
    "    return s"
   ]
  },
  {
   "cell_type": "code",
   "execution_count": 10,
   "metadata": {},
   "outputs": [
    {
     "name": "stdout",
     "output_type": "stream",
     "text": [
      "answer1 = 54990\n",
      "answer2 = 54473\n"
     ]
    }
   ],
   "source": [
    "input_file = \"data/input.txt\"\n",
    "\n",
    "with open(input_file, 'r') as f:\n",
    "    lines = [l.strip() for l in f.readlines()]\n",
    "    answer1 = get_count(lines)\n",
    "    answer2 = get_count2(lines)\n",
    "    print(f\"{answer1 = }\")\n",
    "    print(f\"{answer2 = }\")"
   ]
  }
 ],
 "metadata": {
  "kernelspec": {
   "display_name": "base",
   "language": "python",
   "name": "python3"
  },
  "language_info": {
   "codemirror_mode": {
    "name": "ipython",
    "version": 3
   },
   "file_extension": ".py",
   "mimetype": "text/x-python",
   "name": "python",
   "nbconvert_exporter": "python",
   "pygments_lexer": "ipython3",
   "version": "3.9.7"
  }
 },
 "nbformat": 4,
 "nbformat_minor": 2
}
