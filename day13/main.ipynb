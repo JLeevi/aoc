{
 "cells": [
  {
   "cell_type": "code",
   "execution_count": 1,
   "metadata": {},
   "outputs": [
    {
     "name": "stdout",
     "output_type": "stream",
     "text": [
      "ans1 = 28651\n",
      "ans2 = 25450\n"
     ]
    }
   ],
   "source": [
    "import numpy as np\n",
    "\n",
    "input_file = \"data/input.txt\"\n",
    "\n",
    "def try_mirror(hashes, index):\n",
    "    first = hashes[:index]\n",
    "    second = hashes[index:]\n",
    "    diff = len(first) - len(second)\n",
    "    if diff > 0:\n",
    "        first = first[diff:]\n",
    "    elif diff < 0:\n",
    "        second = second[:diff]\n",
    "    return np.array_equal(first, second[::-1])\n",
    "\n",
    "def find_mirror(hashes, skip_index=None):\n",
    "    N = len(hashes)\n",
    "    for index in range(1, N):\n",
    "        if index == skip_index: continue\n",
    "        if try_mirror(hashes, index):\n",
    "            return index\n",
    "    return None\n",
    "\n",
    "def smudge_hashes(hashes):\n",
    "    new_hashes = np.copy(hashes)\n",
    "    Ny = len(hashes)\n",
    "    Nx = len(hashes[0])\n",
    "    for row in range(Ny):\n",
    "        for col in range(Nx):\n",
    "            new_hashes[row, col] = not new_hashes[row, col]\n",
    "            yield new_hashes\n",
    "            new_hashes = np.copy(hashes)\n",
    "\n",
    "def get_score(horizontal_mirror, vertical_mirror):\n",
    "    if horizontal_mirror:\n",
    "        return horizontal_mirror * 100\n",
    "    elif vertical_mirror:\n",
    "        return vertical_mirror\n",
    "    return None\n",
    "\n",
    "with open(input_file, 'r') as f:\n",
    "    patterns = f.read().split(\"\\n\\n\")\n",
    "    patterns = [p.split() for p in patterns]\n",
    "\n",
    "    ans1 = 0\n",
    "    ans2 = 0\n",
    "\n",
    "    for pattern in patterns:\n",
    "        hashes = np.array([[c == '#' for c in line] for line in pattern], dtype=bool)\n",
    "\n",
    "        horizontal_mirror = find_mirror(hashes)\n",
    "        vertical_mirror = find_mirror(hashes.transpose())\n",
    "        ans1 += get_score(horizontal_mirror, vertical_mirror)\n",
    "\n",
    "        for smudged_hashes in smudge_hashes(hashes):\n",
    "            new_horizontal = find_mirror(smudged_hashes, horizontal_mirror)\n",
    "            new_vertical = find_mirror(smudged_hashes.transpose(), vertical_mirror)\n",
    "            score = get_score(new_horizontal, new_vertical)\n",
    "            if score:\n",
    "                ans2 += score\n",
    "                break\n",
    "\n",
    "    print(f\"{ans1 = }\")\n",
    "    print(f\"{ans2 = }\")"
   ]
  }
 ],
 "metadata": {
  "kernelspec": {
   "display_name": "base",
   "language": "python",
   "name": "python3"
  },
  "language_info": {
   "codemirror_mode": {
    "name": "ipython",
    "version": 3
   },
   "file_extension": ".py",
   "mimetype": "text/x-python",
   "name": "python",
   "nbconvert_exporter": "python",
   "pygments_lexer": "ipython3",
   "version": "3.9.7"
  }
 },
 "nbformat": 4,
 "nbformat_minor": 2
}
