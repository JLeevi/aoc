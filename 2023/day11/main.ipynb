{
 "cells": [
  {
   "cell_type": "code",
   "execution_count": 1,
   "metadata": {},
   "outputs": [
    {
     "name": "stdout",
     "output_type": "stream",
     "text": [
      "ans1 = 9605127\n",
      "ans2 = 458191688761\n"
     ]
    }
   ],
   "source": [
    "input_file = \"data/input.txt\"\n",
    "\n",
    "EXPANSION_FACTOR1 = 2\n",
    "EXPANSION_FACTOR2 = 1e6\n",
    "\n",
    "def get_stars(lines):\n",
    "    stars = []\n",
    "    for y, line in enumerate(lines):\n",
    "        for x, char in enumerate(line):\n",
    "            if char == \"#\":\n",
    "                stars.append((x, y))\n",
    "    return stars\n",
    "\n",
    "def expanded_stars(stars, max_x, max_y, expansion_factor):\n",
    "    all_rows = set(range(max_y))\n",
    "    all_cols = set(range(max_x))\n",
    "\n",
    "    rows_with_stars = set(y for _, y in stars)\n",
    "    cols_with_stars = set(x for x, _ in stars)\n",
    "    rows_without_stars = list(all_rows - rows_with_stars)\n",
    "    cols_without_stars = list(all_cols - cols_with_stars)\n",
    "\n",
    "    new_stars = [\n",
    "        (\n",
    "            int(x + len([col for col in cols_without_stars if col < x]) * (expansion_factor - 1)),\n",
    "            int(y + len([row for row in rows_without_stars if row < y]) * (expansion_factor - 1)),\n",
    "        )\n",
    "        for x, y in stars\n",
    "    ]\n",
    "\n",
    "    return new_stars\n",
    "\n",
    "def get_distance(star1, star2):\n",
    "    return abs(star1[0] - star2[0]) + abs(star1[1] - star2[1])\n",
    "\n",
    "def get_all_distances(stars):\n",
    "    return [\n",
    "        get_distance(star, _star) for i, star in enumerate(stars)\n",
    "        for _star in stars[:i] + stars[i+1:]\n",
    "    ]\n",
    "\n",
    "def get_expanded_distance_sum(lines, expansion_factor):\n",
    "    max_x = len(lines[0])\n",
    "    max_y = len(lines)\n",
    "    initial_stars = get_stars(lines)\n",
    "    stars = expanded_stars(initial_stars, max_x, max_y, expansion_factor)\n",
    "    distances = get_all_distances(stars)\n",
    "    return sum(distances) // 2\n",
    "\n",
    "with open(input_file, 'r') as f:\n",
    "    lines = [l.strip() for l in f.readlines()]\n",
    "    ans1 = get_expanded_distance_sum(lines, EXPANSION_FACTOR1)\n",
    "    ans2 = get_expanded_distance_sum(lines, EXPANSION_FACTOR2)\n",
    "    print(f\"{ans1 = }\")\n",
    "    print(f\"{ans2 = }\")"
   ]
  }
 ],
 "metadata": {
  "kernelspec": {
   "display_name": "base",
   "language": "python",
   "name": "python3"
  },
  "language_info": {
   "codemirror_mode": {
    "name": "ipython",
    "version": 3
   },
   "file_extension": ".py",
   "mimetype": "text/x-python",
   "name": "python",
   "nbconvert_exporter": "python",
   "pygments_lexer": "ipython3",
   "version": "3.9.7"
  }
 },
 "nbformat": 4,
 "nbformat_minor": 2
}
