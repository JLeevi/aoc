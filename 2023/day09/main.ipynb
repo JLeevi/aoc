{
 "cells": [
  {
   "cell_type": "code",
   "execution_count": 1,
   "metadata": {},
   "outputs": [
    {
     "name": "stdout",
     "output_type": "stream",
     "text": [
      "ans1 = 1762065988\n",
      "ans2 = 1066\n"
     ]
    }
   ],
   "source": [
    "import regex as re\n",
    "\n",
    "input_file = \"data/input.txt\"\n",
    "\n",
    "def parse_numbers(text):\n",
    "    return [int(c) for c in re.findall(r\"-?\\d+\", text)]\n",
    "\n",
    "def get_diff(numbers):\n",
    "    diffs = [\n",
    "        numbers[i] - numbers[i - 1]\n",
    "        for i in range(1, len(numbers))\n",
    "    ]\n",
    "    return diffs\n",
    "\n",
    "def all_zero(numbers):\n",
    "    return all(n == 0 for n in numbers)\n",
    "\n",
    "def get_increment(diff_pyramid):\n",
    "    diff = 0\n",
    "    for diffs in reversed(diff_pyramid):\n",
    "        diff = diffs[-1] + diff\n",
    "    return diff\n",
    "\n",
    "def get_decrement(diff_pyramid):\n",
    "    diff = 0\n",
    "    for diffs in reversed(diff_pyramid):\n",
    "        diff = diffs[0] - diff\n",
    "    return diff\n",
    "\n",
    "with open(input_file, 'r') as f:\n",
    "    lines = [l.strip() for l in f.readlines()]\n",
    "    numbers = [parse_numbers(line) for line in lines]\n",
    "    ans1 = 0\n",
    "    ans2 = 0\n",
    "    for nums in numbers:\n",
    "        ns = nums.copy()\n",
    "        diff_pyramid = [ns]\n",
    "        while not all_zero(ns):\n",
    "            ns = get_diff(ns)\n",
    "            diff_pyramid.append(ns)\n",
    "        increment = get_increment(diff_pyramid)\n",
    "        decrement = get_decrement(diff_pyramid)\n",
    "        ans1 += increment\n",
    "        ans2 += decrement\n",
    "    print(f\"{ans1 = }\")\n",
    "    print(f\"{ans2 = }\")"
   ]
  }
 ],
 "metadata": {
  "kernelspec": {
   "display_name": "base",
   "language": "python",
   "name": "python3"
  },
  "language_info": {
   "codemirror_mode": {
    "name": "ipython",
    "version": 3
   },
   "file_extension": ".py",
   "mimetype": "text/x-python",
   "name": "python",
   "nbconvert_exporter": "python",
   "pygments_lexer": "ipython3",
   "version": "3.9.7"
  }
 },
 "nbformat": 4,
 "nbformat_minor": 2
}
