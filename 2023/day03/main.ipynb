{
 "cells": [
  {
   "cell_type": "code",
   "execution_count": 1,
   "metadata": {},
   "outputs": [
    {
     "name": "stdout",
     "output_type": "stream",
     "text": [
      "ans1 = 540212\n",
      "ans2 = 87605697\n"
     ]
    }
   ],
   "source": [
    "import regex as re\n",
    "from collections import defaultdict\n",
    "\n",
    "input_file = \"data/input.txt\"\n",
    "\n",
    "def contains_symbol(subs):\n",
    "    pattern = r\"[^\\d.]\"\n",
    "    return re.search(pattern, subs) is not None\n",
    "\n",
    "def get_id(id, row):\n",
    "    return f\"{id}-{row}\"\n",
    "\n",
    "def get_star_ids(subs, row, range_start, range_end):\n",
    "    pattern = r\"\\*\"\n",
    "    matches = re.finditer(pattern, subs)\n",
    "    ranges = [(m.span()[0], m.span()[1]) for m in matches]\n",
    "    ids = [\n",
    "        get_id(start_x, row) for (start_x, end_x) in ranges\n",
    "        if start_x >= range_start and end_x <= range_end\n",
    "    ]\n",
    "    return ids\n",
    "\n",
    "stars = defaultdict(list)\n",
    "\n",
    "with open(input_file, 'r') as f:\n",
    "    lines = [l.strip() for l in f.readlines()]\n",
    "    ans1 = 0\n",
    "    ans2 = 0\n",
    "    for row, line in enumerate(lines):\n",
    "        matches = re.finditer(r\"\\d+\", line)\n",
    "        for m in matches:\n",
    "            number = int(m.group(0))\n",
    "            start_x, end_x = m.span()[0:2]\n",
    "            start_x = max(start_x - 1, 0)\n",
    "            end_x = min(end_x + 1, len(line) - 1)\n",
    "\n",
    "            around = \"\"\n",
    "            star_ids = []\n",
    "\n",
    "            if row >= 1:\n",
    "                prev_line = lines[row - 1]\n",
    "                around += prev_line[start_x:end_x]\n",
    "                ids = get_star_ids(prev_line, row - 1, start_x, end_x)\n",
    "                star_ids.extend(ids)\n",
    "\n",
    "            if row < len(lines) - 1:\n",
    "                next_line = lines[row + 1]\n",
    "                around += next_line[start_x:end_x]\n",
    "                ids = get_star_ids(next_line, row + 1, start_x, end_x)\n",
    "                star_ids.extend(ids)\n",
    "\n",
    "            around += line[start_x]\n",
    "            around += line[end_x - 1]\n",
    "            has_symbol = contains_symbol(around)\n",
    "            ids = get_star_ids(line, row, start_x, end_x)\n",
    "            star_ids.extend(ids)\n",
    "\n",
    "            ans1 += has_symbol * number\n",
    "            for i in star_ids:\n",
    "                stars[i].append(number)\n",
    "\n",
    "    for s in stars:\n",
    "        if len(stars[s]) == 2:\n",
    "            ans2 += stars[s][0] * stars[s][1]\n",
    "\n",
    "    print(f\"{ans1 = }\")\n",
    "    print(f\"{ans2 = }\")"
   ]
  }
 ],
 "metadata": {
  "kernelspec": {
   "display_name": "base",
   "language": "python",
   "name": "python3"
  },
  "language_info": {
   "codemirror_mode": {
    "name": "ipython",
    "version": 3
   },
   "file_extension": ".py",
   "mimetype": "text/x-python",
   "name": "python",
   "nbconvert_exporter": "python",
   "pygments_lexer": "ipython3",
   "version": "3.9.7"
  }
 },
 "nbformat": 4,
 "nbformat_minor": 2
}
