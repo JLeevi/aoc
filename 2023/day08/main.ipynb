{
 "cells": [
  {
   "cell_type": "code",
   "execution_count": 1,
   "metadata": {},
   "outputs": [],
   "source": [
    "import regex as re\n",
    "import numpy as np\n",
    "\n",
    "input_file = \"data/input.txt\"\n",
    "\n",
    "def parse_table_row(row):\n",
    "    pattern = r'(\\w+) = \\((\\w+), (\\w+)\\)'\n",
    "    match = re.match(pattern, row)\n",
    "    return (match.group(1), match.group(2), match.group(3))\n",
    "\n",
    "def parse_table(directions):\n",
    "    table = {}\n",
    "    for row in directions:\n",
    "        start, l, r = parse_table_row(row)\n",
    "        table[start] = {\n",
    "            \"L\": l,\n",
    "            \"R\": r\n",
    "        }\n",
    "    return table"
   ]
  },
  {
   "cell_type": "code",
   "execution_count": 2,
   "metadata": {},
   "outputs": [],
   "source": [
    "def solve1(instructions, table):\n",
    "    current = \"AAA\"\n",
    "    instruction_idx = 0\n",
    "    while current != \"ZZZ\":\n",
    "        instruction = instructions[instruction_idx % len(instructions)]\n",
    "        instruction_idx += 1\n",
    "        current = table[current][instruction]\n",
    "    return instruction_idx"
   ]
  },
  {
   "cell_type": "code",
   "execution_count": 3,
   "metadata": {},
   "outputs": [],
   "source": [
    "def get_starts(table):\n",
    "    return [k for k in table.keys() if k.endswith(\"A\")]\n",
    "\n",
    "def all_periods_done(periods):\n",
    "    return all([i > 0 for i in periods])\n",
    "\n",
    "def solve2(instructions, table):\n",
    "    currents = get_starts(table)\n",
    "    instruction_idx = 0\n",
    "    periods = [0 for _ in currents]\n",
    "    while not all_periods_done(periods):\n",
    "        instruction = instructions[instruction_idx % len(instructions)]\n",
    "        instruction_idx += 1\n",
    "        for i in range(len(currents)):\n",
    "            currents[i] = table[currents[i]][instruction]\n",
    "            if currents[i].endswith(\"Z\") and periods[i] == 0:\n",
    "                periods[i] = instruction_idx\n",
    "    return np.lcm.reduce(periods)"
   ]
  },
  {
   "cell_type": "code",
   "execution_count": 4,
   "metadata": {},
   "outputs": [
    {
     "name": "stdout",
     "output_type": "stream",
     "text": [
      "ans1 = 22411\n",
      "ans2 = 11188774513823\n"
     ]
    }
   ],
   "source": [
    "with open(input_file, 'r') as f:\n",
    "    lines = [l.strip() for l in f.readlines()]\n",
    "    instructions, directions = lines[0], lines[2:]\n",
    "    table = parse_table(directions)\n",
    "    \n",
    "    ans1 = solve1(instructions, table)\n",
    "    ans2 = solve2(instructions, table)\n",
    "    print(f\"{ans1 = }\")\n",
    "    print(f\"{ans2 = }\")"
   ]
  }
 ],
 "metadata": {
  "kernelspec": {
   "display_name": "base",
   "language": "python",
   "name": "python3"
  },
  "language_info": {
   "codemirror_mode": {
    "name": "ipython",
    "version": 3
   },
   "file_extension": ".py",
   "mimetype": "text/x-python",
   "name": "python",
   "nbconvert_exporter": "python",
   "pygments_lexer": "ipython3",
   "version": "3.9.7"
  }
 },
 "nbformat": 4,
 "nbformat_minor": 2
}
