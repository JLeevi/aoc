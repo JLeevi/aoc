{
 "cells": [
  {
   "cell_type": "code",
   "execution_count": 1,
   "metadata": {},
   "outputs": [
    {
     "name": "stdout",
     "output_type": "stream",
     "text": [
      "ans1 = 1084752\n",
      "ans2 = 28228952\n"
     ]
    }
   ],
   "source": [
    "import regex as re\n",
    "\n",
    "input_file = \"data/input.txt\"\n",
    "\n",
    "def parse_numbers(text):\n",
    "    return [int(c) for c in re.findall(f\"\\d+\", text)]\n",
    "\n",
    "def get_distance(race_time_limit, load_time):\n",
    "    return (race_time_limit - load_time) * load_time\n",
    "\n",
    "def get_winning_distances_count(race_time_limit, best_distance):\n",
    "    winning_distances = [\n",
    "        load_time for load_time in range(1, race_time_limit)\n",
    "        if get_distance(race_time_limit, load_time) > best_distance\n",
    "    ]\n",
    "    return len(winning_distances)\n",
    "\n",
    "def combine_to_single_race(races):\n",
    "    time = ''.join([str(r[0]) for r in races])\n",
    "    best_distance = ''.join([str(r[1]) for r in races])\n",
    "    return int(time), int(best_distance)\n",
    "\n",
    "with open(input_file, 'r') as f:\n",
    "    lines = f.readlines()\n",
    "    times = parse_numbers(lines[0])\n",
    "    best_distances = parse_numbers(lines[1])\n",
    "    races = list(zip(times, best_distances))\n",
    "    ans1 = 1\n",
    "    for (race_time_limit, best_distance) in races:\n",
    "        n_winning = get_winning_distances_count(race_time_limit, best_distance)\n",
    "        ans1 *= n_winning\n",
    "\n",
    "    time_limit, best_distance = combine_to_single_race(races)\n",
    "    ans2 = get_winning_distances_count(time_limit, best_distance)\n",
    "\n",
    "    print(f\"{ans1 = }\")\n",
    "    print(f\"{ans2 = }\")\n"
   ]
  }
 ],
 "metadata": {
  "kernelspec": {
   "display_name": "base",
   "language": "python",
   "name": "python3"
  },
  "language_info": {
   "codemirror_mode": {
    "name": "ipython",
    "version": 3
   },
   "file_extension": ".py",
   "mimetype": "text/x-python",
   "name": "python",
   "nbconvert_exporter": "python",
   "pygments_lexer": "ipython3",
   "version": "3.9.7"
  }
 },
 "nbformat": 4,
 "nbformat_minor": 2
}
