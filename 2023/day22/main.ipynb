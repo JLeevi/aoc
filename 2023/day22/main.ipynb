{
 "cells": [
  {
   "cell_type": "code",
   "execution_count": 1,
   "metadata": {},
   "outputs": [
    {
     "name": "stdout",
     "output_type": "stream",
     "text": [
      "ans1 = 463\n",
      "ans2 = 89727\n"
     ]
    }
   ],
   "source": [
    "input_file = \"data/input.txt\"\n",
    "\n",
    "def parse_bricks(lines):\n",
    "    bricks = []\n",
    "    for l in lines:\n",
    "        start, end = l.split(\"~\")\n",
    "        start = start.split(\",\")\n",
    "        end = end.split(\",\")\n",
    "        start = [int(x) for x in start]\n",
    "        end = [int(x) for x in end]\n",
    "        bricks.append([start, end])\n",
    "\n",
    "    bricks.sort(key=lambda b: b[1][2])\n",
    "    return bricks\n",
    "\n",
    "def calculate_supporters(bricks):\n",
    "    max_x = max(x for _, (x, _, _) in bricks) + 1\n",
    "    max_y = max(y for _, (_, y, _) in bricks) + 1\n",
    "    max_z = max(z for _, (_, _, z) in bricks) + 1\n",
    "\n",
    "    stack = [[[None for _ in range(max_x)] for _ in range(max_y)] for _ in range(max_z)]\n",
    "\n",
    "    supported_by = {}\n",
    "\n",
    "    for brick_id in range(len(bricks)):\n",
    "        (start_x, start_y, start_z), (end_x, end_y, end_z) = bricks[brick_id]\n",
    "\n",
    "        xs = list(range(start_x, end_x + 1))\n",
    "        ys = list(range(start_y, end_y + 1))\n",
    "\n",
    "        for z in range(max_z):\n",
    "            support = set([stack[z][y][x] for x in xs for y in ys]) - { None }\n",
    "            if support:\n",
    "                supported_by[brick_id] = support\n",
    "                break\n",
    "\n",
    "        height = end_z - start_z + 1\n",
    "        for z_ in range(z - height, z):\n",
    "            for y in ys:\n",
    "                for x in xs:\n",
    "                    stack[z_][y][x] = brick_id\n",
    "    return supported_by\n",
    "\n",
    "with open(input_file, 'r') as f:\n",
    "    lines = [l.strip() for l in f.readlines()]\n",
    "\n",
    "    bricks = parse_bricks(lines)\n",
    "    supported_by = calculate_supporters(bricks)\n",
    "\n",
    "    lone_supporters = [s for s in supported_by.values() if len(s) == 1]\n",
    "    lone_supporters = set.union(*lone_supporters)\n",
    "    ans1 = len(bricks) - len(lone_supporters)\n",
    "\n",
    "    ans2 = 0\n",
    "    for brick_id in lone_supporters:\n",
    "        removed = set([brick_id])\n",
    "        for j in range(brick_id + 1, len(bricks)):\n",
    "            if j in supported_by and supported_by[j].issubset(removed):\n",
    "                removed.add(j)\n",
    "        ans2 += len(removed) - 1\n",
    "\n",
    "    print(f\"{ans1 = }\")\n",
    "    print(f\"{ans2 = }\")\n"
   ]
  }
 ],
 "metadata": {
  "kernelspec": {
   "display_name": "base",
   "language": "python",
   "name": "python3"
  },
  "language_info": {
   "codemirror_mode": {
    "name": "ipython",
    "version": 3
   },
   "file_extension": ".py",
   "mimetype": "text/x-python",
   "name": "python",
   "nbconvert_exporter": "python",
   "pygments_lexer": "ipython3",
   "version": "3.9.7"
  }
 },
 "nbformat": 4,
 "nbformat_minor": 2
}
