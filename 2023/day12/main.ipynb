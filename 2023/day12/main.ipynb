{
 "cells": [
  {
   "cell_type": "code",
   "execution_count": 1,
   "metadata": {},
   "outputs": [
    {
     "name": "stdout",
     "output_type": "stream",
     "text": [
      "ans1 = 7541\n",
      "ans2 = 17485169859432\n"
     ]
    }
   ],
   "source": [
    "import regex as re\n",
    "from itertools import chain\n",
    "\n",
    "input_file = \"data/input.txt\"\n",
    "\n",
    "memory = {}\n",
    "\n",
    "def count_combinations(config, counts, config_idx, count_idx, current_count):\n",
    "    key = (config_idx, count_idx, current_count)\n",
    "    if key in memory:\n",
    "        return memory[key]\n",
    "   \n",
    "    if config_idx == len(config):\n",
    "        if count_idx == len(counts) and current_count == 0:\n",
    "            return 1\n",
    "        elif count_idx == len(counts)-1 and counts[count_idx] == current_count:\n",
    "            return 1\n",
    "        else:\n",
    "            return 0\n",
    "\n",
    "    total = 0\n",
    "    for char_suggestion in ['.', '#']:\n",
    "        if config[config_idx] == char_suggestion or config[config_idx] == '?':\n",
    "            is_dot = char_suggestion == '.'\n",
    "            if is_dot and current_count == 0:\n",
    "                total += count_combinations(config, counts, config_idx + 1, count_idx, 0)\n",
    "                continue\n",
    "\n",
    "            count_overflow = count_idx >= len(counts)\n",
    "            valid_count = not count_overflow and counts[count_idx] == current_count\n",
    "            if is_dot and valid_count:\n",
    "                total += count_combinations(config, counts, config_idx + 1, count_idx + 1, 0)\n",
    "                continue\n",
    "\n",
    "            if char_suggestion == '#':\n",
    "                total += count_combinations(config, counts, config_idx + 1, count_idx, current_count + 1)\n",
    "\n",
    "    memory[key] = total\n",
    "    return total\n",
    "\n",
    "def parse_numbers(text):\n",
    "    return [int(c) for c in re.findall(r\"-?\\d+\", text)]\n",
    "\n",
    "def expand(config, counts):\n",
    "    configs = [config for _ in range(5)]\n",
    "    config = \"?\".join(configs)\n",
    "    new_counts = list(chain(*[counts for _ in range(5)]))\n",
    "    return config, new_counts\n",
    "\n",
    "with open(input_file, 'r') as f:\n",
    "    lines = [l.strip() for l in f.readlines()]\n",
    "    ans1 = 0\n",
    "    ans2 = 0\n",
    "    N = len(lines)\n",
    "    for ind, line in enumerate(lines):\n",
    "        config, counts = line.split()\n",
    "        counts = parse_numbers(counts)\n",
    "        config2, counts2 = expand(config, counts)\n",
    "\n",
    "        memory.clear()\n",
    "        ans1 += count_combinations(config, counts, 0, 0, 0)\n",
    "        memory.clear()\n",
    "        ans2 += count_combinations(config2, counts2, 0, 0, 0)\n",
    "    print(f\"{ans1 = }\")\n",
    "    print(f\"{ans2 = }\")"
   ]
  }
 ],
 "metadata": {
  "kernelspec": {
   "display_name": "base",
   "language": "python",
   "name": "python3"
  },
  "language_info": {
   "codemirror_mode": {
    "name": "ipython",
    "version": 3
   },
   "file_extension": ".py",
   "mimetype": "text/x-python",
   "name": "python",
   "nbconvert_exporter": "python",
   "pygments_lexer": "ipython3",
   "version": "3.9.7"
  }
 },
 "nbformat": 4,
 "nbformat_minor": 2
}
