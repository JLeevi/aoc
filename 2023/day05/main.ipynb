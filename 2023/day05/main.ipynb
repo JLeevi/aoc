{
 "cells": [
  {
   "cell_type": "code",
   "execution_count": 1,
   "metadata": {},
   "outputs": [
    {
     "name": "stdout",
     "output_type": "stream",
     "text": [
      "ans1 = 226172555\n",
      "ans2 = 47909639\n"
     ]
    }
   ],
   "source": [
    "import regex as re\n",
    "\n",
    "input_file = \"data/input.txt\"\n",
    "\n",
    "def parse_numbers(text):\n",
    "    return [int(c) for c in re.findall(f\"\\d+\", text)]\n",
    "\n",
    "def parse_mappings(lines):\n",
    "    seed_to_soil = get_map(parse_numbers(lines[1]))\n",
    "    soil_to_fertilizer = get_map(parse_numbers(lines[2]))\n",
    "    fertilizer_to_water = get_map(parse_numbers(lines[3]))\n",
    "    water_to_light = get_map(parse_numbers(lines[4]))\n",
    "    light_to_temperature = get_map(parse_numbers(lines[5]))\n",
    "    temperature_to_humidity = get_map(parse_numbers(lines[6]))\n",
    "    humidity_to_location = get_map(parse_numbers(lines[7]))\n",
    "    mappings = [\n",
    "        seed_to_soil,\n",
    "        soil_to_fertilizer,\n",
    "        fertilizer_to_water,\n",
    "        water_to_light,\n",
    "        light_to_temperature,\n",
    "        temperature_to_humidity,\n",
    "        humidity_to_location\n",
    "    ]\n",
    "    return mappings\n",
    "\n",
    "def get_map(numbers):\n",
    "    chunks = [numbers[x:x+3] for x in range(0, len(numbers), 3)]\n",
    "    source_to_dest = {}\n",
    "    for chunk in chunks:\n",
    "        source_to_dest[chunk[1]] = (chunk[0], chunk[2])\n",
    "    return source_to_dest\n",
    "\n",
    "def source_to_dest(source_number, mapping):\n",
    "    for source_start in mapping:\n",
    "        dest_start, range_len = mapping[source_start]\n",
    "        diff = (source_number - source_start)\n",
    "        if 0 <= diff < range_len:\n",
    "            return dest_start + diff, range_len - diff\n",
    "    min_diff = min([m for m in mapping if m > source_number])\n",
    "    return source_number, min_diff\n",
    "\n",
    "def get_seed_ranges(seeds):\n",
    "    ranges = [seeds[x:x+2] for x in range(0, len(seeds), 2)]\n",
    "    return ranges\n",
    "\n",
    "def run_pipeline(seed, mappings):\n",
    "    increment = 1e20\n",
    "    value = seed\n",
    "    for m in mappings:\n",
    "        value, new_increment = source_to_dest(value, m)\n",
    "        increment = min(increment, new_increment)\n",
    "    return value, increment\n",
    "\n",
    "with open(input_file, 'r') as f:\n",
    "    lines = f.read().split(\"\\n\\n\")\n",
    "    seeds = parse_numbers(lines[0])\n",
    "    mappings = parse_mappings(lines)\n",
    "    \n",
    "    ans1 = 1e20\n",
    "    ans2 = 1e20\n",
    "    for seed in seeds:\n",
    "        location, _ = run_pipeline(seed, mappings)\n",
    "        ans1 = min(ans1, location)\n",
    "\n",
    "    seed_ranges = get_seed_ranges(seeds)\n",
    "    for (start, length) in seed_ranges:\n",
    "        seed = start\n",
    "        while seed < start + length:\n",
    "            location, increment = run_pipeline(seed, mappings)\n",
    "            seed += increment\n",
    "            ans2 = min(ans2, location)\n",
    "\n",
    "    print(f\"{ans1 = }\")\n",
    "    print(f\"{ans2 = }\")"
   ]
  }
 ],
 "metadata": {
  "kernelspec": {
   "display_name": "base",
   "language": "python",
   "name": "python3"
  },
  "language_info": {
   "codemirror_mode": {
    "name": "ipython",
    "version": 3
   },
   "file_extension": ".py",
   "mimetype": "text/x-python",
   "name": "python",
   "nbconvert_exporter": "python",
   "pygments_lexer": "ipython3",
   "version": "3.9.7"
  }
 },
 "nbformat": 4,
 "nbformat_minor": 2
}
