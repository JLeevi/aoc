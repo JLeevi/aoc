{
 "cells": [
  {
   "cell_type": "code",
   "execution_count": 1,
   "metadata": {},
   "outputs": [
    {
     "name": "stdout",
     "output_type": "stream",
     "text": [
      "ans1 = 3847\n",
      "ans2 = 637537341306357\n"
     ]
    }
   ],
   "source": [
    "input_file = \"data/input.txt\"\n",
    "\n",
    "UP = (0, -1)\n",
    "RIGHT = (1, 0)\n",
    "DOWN = (0, 1)\n",
    "LEFT = (-1, 0)\n",
    "\n",
    "def within_bounds(coordinates, max_x, max_y):\n",
    "    x, y = coordinates\n",
    "    return 0 <= x < max_x and 0 <= y < max_y\n",
    "\n",
    "def sum_coordinates(c1, c2):\n",
    "    return (c1[0] + c2[0], c1[1] + c2[1])\n",
    "\n",
    "def find_start(matrix):\n",
    "    for y, line in enumerate(matrix):\n",
    "        for x, char in enumerate(line):\n",
    "            if char == \"S\":\n",
    "                return (x, y)\n",
    "\n",
    "def solve(matrix, steps, allow_overflow = False):\n",
    "    coordinates = [find_start(matrix)]\n",
    "    MAX_Y = len(matrix)\n",
    "    MAX_X = len(matrix[0])\n",
    "\n",
    "    while steps > 0:\n",
    "        counts = [[0] * len(matrix[0]) for _ in matrix]\n",
    "        new_coordinates = []\n",
    "        for coord in coordinates:\n",
    "            for direction in [UP, RIGHT, DOWN, LEFT]:\n",
    "                new_x, new_y = sum_coordinates(coord, direction)\n",
    "                if not (allow_overflow or within_bounds((new_x, new_y), MAX_X, MAX_Y)):\n",
    "                    continue\n",
    "                if matrix[new_y % MAX_Y][new_x % MAX_X] != \"#\":\n",
    "                    new_coordinates.append((new_x, new_y))\n",
    "                    counts[new_y % MAX_Y][new_x % MAX_X] = 1\n",
    "        coordinates = set(new_coordinates)\n",
    "        steps -= 1\n",
    "    return len(coordinates)\n",
    "\n",
    "with open(input_file, 'r') as f:\n",
    "    matrix = [l.strip() for l in f.readlines()]\n",
    "\n",
    "    steps1 = 64\n",
    "    steps2 = 26501365\n",
    "\n",
    "    ans1 = solve(matrix, steps1)\n",
    "\n",
    "    N = len(matrix)\n",
    "    modulo = steps2 % N\n",
    "    steps2 = steps2 // N\n",
    "\n",
    "    y1 = solve(matrix, 0 * N + modulo, True)\n",
    "    y2 = solve(matrix, 1 * N + modulo, True)\n",
    "    y3 = solve(matrix, 2 * N + modulo, True)\n",
    "\n",
    "    x1 = 0\n",
    "    x2 = 1\n",
    "    x3 = 2\n",
    "\n",
    "    a = (x1 * (y3 - y2) + x2 * (y1 - y3) + x3 * (y2 - y1)) / ((x1 - x2) * (x1 - x3) * (x2 - x3))\n",
    "    b = ((y2 - y1) / (x2 - x1)) - a * (x1 + x2)\n",
    "    c = y1 - (a * x1 * x1) - (b * x1)\n",
    "\n",
    "    f = lambda x: int((a * x * x) + (b * x) + c)\n",
    "\n",
    "    ans2 = f(steps2)\n",
    "\n",
    "    print(f\"{ans1 = }\")\n",
    "    print(f\"{ans2 = }\")"
   ]
  }
 ],
 "metadata": {
  "kernelspec": {
   "display_name": "base",
   "language": "python",
   "name": "python3"
  },
  "language_info": {
   "codemirror_mode": {
    "name": "ipython",
    "version": 3
   },
   "file_extension": ".py",
   "mimetype": "text/x-python",
   "name": "python",
   "nbconvert_exporter": "python",
   "pygments_lexer": "ipython3",
   "version": "3.9.7"
  }
 },
 "nbformat": 4,
 "nbformat_minor": 2
}
