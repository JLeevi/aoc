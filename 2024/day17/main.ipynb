{
 "cells": [
  {
   "cell_type": "code",
   "execution_count": 1,
   "metadata": {},
   "outputs": [
    {
     "name": "stdout",
     "output_type": "stream",
     "text": [
      "Answer 1: 7,6,5,3,6,5,7,0,4\n",
      "Answer 2: 190615597431823\n"
     ]
    }
   ],
   "source": [
    "import re\n",
    "\n",
    "input_file = \"data/input.txt\"\n",
    "\n",
    "def init(input_file):\n",
    "    with open(input_file, 'r') as f:\n",
    "        lines = f.read()\n",
    "        a, _, _, *program = map(int, re.findall(r'\\d+', lines))\n",
    "        return program, a\n",
    "\n",
    "def run(N, a):\n",
    "    output = []\n",
    "    pointer = 0\n",
    "    A, B, C = a, 0, 0\n",
    "    while pointer < N:\n",
    "        instruction = pointer // 2\n",
    "        match instruction:\n",
    "            case 0: B = A % 8\n",
    "            case 1: B = B ^ 2\n",
    "            case 2: C = A // 2**B\n",
    "            case 3: A = A // 2**3\n",
    "            case 4: B = B ^ 7\n",
    "            case 5: B = B ^ C\n",
    "            case 6:\n",
    "                output.append(B % 8)\n",
    "            case 7: \n",
    "                if A > 0:\n",
    "                    pointer = -2\n",
    "        pointer += 2\n",
    "    return output\n",
    "\n",
    "program, a = init(input_file)\n",
    "output1 = run(len(program), a)\n",
    "\n",
    "candidates = []\n",
    "trials = [(1, 0)]\n",
    "for i, start_a in trials:\n",
    "    end_a = start_a + 8\n",
    "    for a in range(start_a, end_a):\n",
    "        out = run(len(program), a)\n",
    "        end_matches = out == program[-i:]\n",
    "        if end_matches:\n",
    "            trials.append((i+1, a*8))\n",
    "            if i == len(program):\n",
    "                candidates.append(a)\n",
    "\n",
    "answer1 = \",\".join([str(x) for x in output1])\n",
    "answer2 = min(candidates)\n",
    "print(f\"Answer 1: {answer1}\")\n",
    "print(f\"Answer 2: {answer2}\")"
   ]
  }
 ],
 "metadata": {
  "kernelspec": {
   "display_name": "base",
   "language": "python",
   "name": "python3"
  },
  "language_info": {
   "codemirror_mode": {
    "name": "ipython",
    "version": 3
   },
   "file_extension": ".py",
   "mimetype": "text/x-python",
   "name": "python",
   "nbconvert_exporter": "python",
   "pygments_lexer": "ipython3",
   "version": "3.12.7"
  }
 },
 "nbformat": 4,
 "nbformat_minor": 2
}
