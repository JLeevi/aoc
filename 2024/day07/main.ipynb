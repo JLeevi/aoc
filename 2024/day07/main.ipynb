{
 "cells": [
  {
   "cell_type": "code",
   "execution_count": 1,
   "metadata": {},
   "outputs": [
    {
     "name": "stdout",
     "output_type": "stream",
     "text": [
      "Answer 1: 882304362421\n",
      "Answer 2: 145149066755184\n"
     ]
    }
   ],
   "source": [
    "import re\n",
    "\n",
    "input_file = \"data/input.txt\"\n",
    "\n",
    "def solvable(target, operands, use_concat):\n",
    "    combinations = [operands[0]]\n",
    "    for operand in operands[1:]:\n",
    "        new_combinations = []\n",
    "        for combination in combinations:\n",
    "            new_combinations.append(combination + operand)\n",
    "            new_combinations.append(combination * operand)\n",
    "            if use_concat:\n",
    "                new_combinations.append(int(str(combination) + str(operand)))\n",
    "        combinations = new_combinations\n",
    "    return target in combinations\n",
    "\n",
    "with open(input_file, 'r') as f:\n",
    "    lines = [line.strip() for line in f.readlines()]\n",
    "    numbers = [re.findall(r'\\d+', line) for line in lines]\n",
    "    numbers = [[int(n2) for n2 in n] for n in numbers]\n",
    "    numbers = [(n[0], n[1:]) for n in numbers]\n",
    "\n",
    "    ans1 = 0\n",
    "    ans2 = 0\n",
    "    for result, operands in numbers:\n",
    "        if solvable(result, operands, False):\n",
    "            ans1 += result\n",
    "            ans2 += result\n",
    "        elif solvable(result, operands, True):\n",
    "            ans2 += result\n",
    "    print(f\"Answer 1: {ans1}\")\n",
    "    print(f\"Answer 2: {ans2}\")"
   ]
  }
 ],
 "metadata": {
  "kernelspec": {
   "display_name": "base",
   "language": "python",
   "name": "python3"
  },
  "language_info": {
   "codemirror_mode": {
    "name": "ipython",
    "version": 3
   },
   "file_extension": ".py",
   "mimetype": "text/x-python",
   "name": "python",
   "nbconvert_exporter": "python",
   "pygments_lexer": "ipython3",
   "version": "3.12.7"
  }
 },
 "nbformat": 4,
 "nbformat_minor": 2
}
