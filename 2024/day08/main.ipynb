{
 "cells": [
  {
   "cell_type": "code",
   "execution_count": 1,
   "metadata": {},
   "outputs": [],
   "source": [
    "def within_bounds(pos, grid_size):\n",
    "    return (0 <= pos[0] < grid_size) and (0 <= pos[1] < grid_size)\n",
    "\n",
    "def add(pos, diff):\n",
    "    return (pos[0] + diff[0], pos[1] + diff[1])\n",
    "\n",
    "def sub(pos, diff):\n",
    "    return (pos[0] - diff[0], pos[1] - diff[1])\n",
    "\n",
    "def solve(positions_by_frequency, grid_size, all_multiples):\n",
    "    locations = set()\n",
    "    for frequency in positions_by_frequency:\n",
    "        positions = positions_by_frequency[frequency]\n",
    "        for row1, col1 in positions:\n",
    "            for row2, col2 in positions:\n",
    "                if row1 == row2 and col1 == col2:\n",
    "                    continue\n",
    "                difference = (row2 - row1, col2 - col1)\n",
    "                pos1 = (row1, col1)\n",
    "                pos2 = (row2, col2)\n",
    "\n",
    "                if not all_multiples:\n",
    "                    pos1 = sub(pos1, difference)\n",
    "                    pos2 = add(pos2, difference)\n",
    "                    if within_bounds(pos1, grid_size):\n",
    "                        locations.add(pos1)\n",
    "                    if within_bounds(pos2, grid_size):\n",
    "                        locations.add(pos2)\n",
    "                else:\n",
    "                    while within_bounds(pos1, grid_size):\n",
    "                        locations.add(pos1)\n",
    "                        pos1 = sub(pos1, difference)\n",
    "                    while within_bounds(pos2, grid_size):\n",
    "                        locations.add(pos2)\n",
    "                        pos2 = add(pos2, difference)\n",
    "    return len(locations)"
   ]
  },
  {
   "cell_type": "code",
   "execution_count": 2,
   "metadata": {},
   "outputs": [
    {
     "name": "stdout",
     "output_type": "stream",
     "text": [
      "Answer 1: 313\n",
      "Answer 2: 1064\n"
     ]
    }
   ],
   "source": [
    "from collections import defaultdict\n",
    "\n",
    "input_file = \"data/input.txt\"\n",
    "\n",
    "with open(input_file, 'r') as f:\n",
    "    lines = [line.strip() for line in f.readlines()]\n",
    "\n",
    "    grid_size = len(lines)\n",
    "    positions_by_frequency = defaultdict(list)\n",
    "    for row in range(grid_size):\n",
    "        for col in range(grid_size):\n",
    "            char = lines[row][col]\n",
    "            if char != \".\":\n",
    "                positions_by_frequency[char].append((row, col))\n",
    "    \n",
    "    ans1 = solve(positions_by_frequency, grid_size, False)\n",
    "    ans2 = solve(positions_by_frequency, grid_size, True)\n",
    "    print(f\"Answer 1: {ans1}\")\n",
    "    print(f\"Answer 2: {ans2}\")"
   ]
  }
 ],
 "metadata": {
  "kernelspec": {
   "display_name": "base",
   "language": "python",
   "name": "python3"
  },
  "language_info": {
   "codemirror_mode": {
    "name": "ipython",
    "version": 3
   },
   "file_extension": ".py",
   "mimetype": "text/x-python",
   "name": "python",
   "nbconvert_exporter": "python",
   "pygments_lexer": "ipython3",
   "version": "3.12.7"
  }
 },
 "nbformat": 4,
 "nbformat_minor": 2
}
