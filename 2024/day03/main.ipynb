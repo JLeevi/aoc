{
 "cells": [
  {
   "cell_type": "code",
   "execution_count": 1,
   "metadata": {},
   "outputs": [
    {
     "name": "stdout",
     "output_type": "stream",
     "text": [
      "Answer 1: 189527826\n",
      "Answer 2: 63013756\n"
     ]
    }
   ],
   "source": [
    "import re\n",
    "\n",
    "input_file = \"data/input.txt\"\n",
    "\n",
    "number_pattern = r\"(-?\\d*)\"\n",
    "multiply_pattern = rf\"mul\\({number_pattern},{number_pattern}\\)\"\n",
    "enable_pattern = r\"(do\\(\\)|don't\\(\\))\"\n",
    "\n",
    "with open(input_file, 'r') as f:\n",
    "    instructions = [line.strip() for line in f.readlines()]\n",
    "    instruction_string = \"\".join(instructions)\n",
    "\n",
    "    result_1 = 0\n",
    "    multiplies = re.findall(multiply_pattern, instruction_string)\n",
    "    for n1, n2 in multiplies:\n",
    "        result_1 += int(n1) * int(n2)\n",
    "\n",
    "    result_2 = 0\n",
    "    instructions_with_enables = re.split(enable_pattern, instruction_string)\n",
    "    enabled = True\n",
    "    for instruction in instructions_with_enables:\n",
    "        if instruction == \"do()\":\n",
    "            enabled = True\n",
    "            continue\n",
    "        elif instruction == \"don't()\":\n",
    "            enabled = False\n",
    "            continue\n",
    "        if not enabled:\n",
    "            continue\n",
    "\n",
    "        multiplies = re.findall(multiply_pattern, instruction)\n",
    "        for n1, n2 in multiplies:\n",
    "            result_2 += int(n1) * int(n2)\n",
    "\n",
    "    print(f\"Answer 1: {result_1}\")\n",
    "    print(f\"Answer 2: {result_2}\")"
   ]
  }
 ],
 "metadata": {
  "kernelspec": {
   "display_name": "base",
   "language": "python",
   "name": "python3"
  },
  "language_info": {
   "codemirror_mode": {
    "name": "ipython",
    "version": 3
   },
   "file_extension": ".py",
   "mimetype": "text/x-python",
   "name": "python",
   "nbconvert_exporter": "python",
   "pygments_lexer": "ipython3",
   "version": "3.12.7"
  }
 },
 "nbformat": 4,
 "nbformat_minor": 2
}
