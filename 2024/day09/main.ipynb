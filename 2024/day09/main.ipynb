{
 "cells": [
  {
   "cell_type": "code",
   "execution_count": 1,
   "metadata": {},
   "outputs": [],
   "source": [
    "from collections import defaultdict\n",
    "\n",
    "free_space_by_length = defaultdict(int)\n",
    "lengths = set()\n",
    "\n",
    "def find_free_block(array, length):\n",
    "    lengths.add(length)\n",
    "    start_index = free_space_by_length[length]\n",
    "    if start_index == -1:\n",
    "        return -1\n",
    "\n",
    "    max_length = max(lengths)\n",
    "    while start_index <= len(array) - length:\n",
    "        if all(array[start_index + i] == \".\" for i in range(length)):\n",
    "            for l in range(length, max_length + 1):\n",
    "                free_space_by_length[l] = start_index + length\n",
    "            return start_index\n",
    "        start_index += 1\n",
    "\n",
    "    for l in range(length, max_length + 1):\n",
    "        free_space_by_length[l] = -1\n",
    "    return -1\n",
    "\n",
    "def checksum(array):\n",
    "    return sum(int(c) * i for i, c in enumerate(array) if c != \".\")\n",
    "\n",
    "def solve1(array):\n",
    "    out = array[:]\n",
    "    start_i, end_i = 0, len(out) - 1\n",
    "    while start_i < end_i:\n",
    "        if out[start_i] == \".\" and out[end_i] != \".\":\n",
    "            out[start_i], out[end_i] = out[end_i], \".\"\n",
    "            start_i += 1\n",
    "            end_i -= 1\n",
    "        if out[start_i] != \".\":\n",
    "            start_i += 1\n",
    "        if out[end_i] == \".\":\n",
    "            end_i -= 1\n",
    "    return out\n",
    "\n",
    "def solve2(array):\n",
    "    out = array[:]\n",
    "    end_i = len(out) - 1\n",
    "    while end_i > 0:\n",
    "        if out[end_i] == \".\":\n",
    "            end_i -= 1\n",
    "            continue\n",
    "        active_id = out[end_i]\n",
    "        count = 0\n",
    "        while end_i >= 0 and out[end_i] == active_id:\n",
    "            count += 1\n",
    "            end_i -= 1\n",
    "        replace_index = find_free_block(out, count)\n",
    "        if 0 <= replace_index < end_i:\n",
    "            for i in range(count):\n",
    "                out[replace_index + i] = active_id\n",
    "                out[end_i + i + 1] = \".\"\n",
    "    return out\n",
    "\n",
    "def parse_input(file_path):\n",
    "    with open(file_path, 'r') as f:\n",
    "        line = f.read().strip()\n",
    "    return [\n",
    "        id for i, char in enumerate(line)\n",
    "        for id in ([i // 2] * int(char) if i % 2 == 0 else [\".\"] * int(char))\n",
    "    ]"
   ]
  },
  {
   "cell_type": "code",
   "execution_count": 2,
   "metadata": {},
   "outputs": [
    {
     "name": "stdout",
     "output_type": "stream",
     "text": [
      "Answer 1: 6366665108136\n",
      "Answer 2: 6398065450842\n"
     ]
    }
   ],
   "source": [
    "input_file = \"data/input.txt\"\n",
    "\n",
    "input_string = parse_input(input_file)\n",
    "\n",
    "memory1 = solve1(input_string)\n",
    "memory2 = solve2(input_string)\n",
    "\n",
    "ans1 = checksum(memory1)\n",
    "ans2 = checksum(memory2)\n",
    "\n",
    "print(f\"Answer 1: {ans1}\")\n",
    "print(f\"Answer 2: {ans2}\")"
   ]
  }
 ],
 "metadata": {
  "kernelspec": {
   "display_name": "base",
   "language": "python",
   "name": "python3"
  },
  "language_info": {
   "codemirror_mode": {
    "name": "ipython",
    "version": 3
   },
   "file_extension": ".py",
   "mimetype": "text/x-python",
   "name": "python",
   "nbconvert_exporter": "python",
   "pygments_lexer": "ipython3",
   "version": "3.12.7"
  }
 },
 "nbformat": 4,
 "nbformat_minor": 2
}
