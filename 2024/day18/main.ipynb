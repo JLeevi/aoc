{
 "cells": [
  {
   "cell_type": "code",
   "execution_count": 1,
   "metadata": {},
   "outputs": [
    {
     "name": "stdout",
     "output_type": "stream",
     "text": [
      "Answer 1: 246\n",
      "Answer 2: 22,50\n"
     ]
    }
   ],
   "source": [
    "from queue import Queue\n",
    "\n",
    "input_file = \"data/input.txt\"\n",
    "\n",
    "WALL = \"#\"\n",
    "UP = (-1, 0)\n",
    "DOWN = (1, 0)\n",
    "RIGHT = (0, 1)\n",
    "LEFT = (0, -1)\n",
    "directions = [UP, DOWN, RIGHT, LEFT]\n",
    "\n",
    "def add(pos1, pos2):\n",
    "    return (pos1[0] + pos2[0], pos1[1] + pos2[1])\n",
    "\n",
    "def get_element_at_position(position, matrix):\n",
    "    return matrix[position[0]][position[1]]\n",
    "\n",
    "def within_bounds(pos, N):\n",
    "    return (0 <= pos[0] < N) and (0 <= pos[1] < N)\n",
    "\n",
    "def bfs(map, start, target):\n",
    "    visited = set()\n",
    "    queue = Queue()\n",
    "    queue.put((start, [start]))\n",
    "    while not queue.empty():\n",
    "        (position, path) = queue.get()\n",
    "        if position == target:\n",
    "            return path\n",
    "\n",
    "        if position in visited:\n",
    "            continue\n",
    "        visited.add(position)\n",
    "\n",
    "        for new_direction in directions:\n",
    "            new_position = add(position, new_direction)\n",
    "            if not within_bounds(new_position, len(map)):\n",
    "                continue\n",
    "            if get_element_at_position(new_position, map) != WALL:\n",
    "                if new_position not in visited:\n",
    "                    queue.put((new_position, [*path, new_position]))\n",
    "    return None\n",
    "\n",
    "def create_map(coordinates, N):\n",
    "    map = []\n",
    "    for _ in range(N):\n",
    "        row = [\".\" for _ in range(N)]\n",
    "        map.append(row)\n",
    "    for row, col in coordinates:\n",
    "        map[row][col] = WALL\n",
    "    return map\n",
    "\n",
    "with open(input_file, 'r') as f:\n",
    "    N = 71\n",
    "    start = (0, 0)\n",
    "    end = (N-1, N-1)\n",
    "\n",
    "    coordinates = [x.strip().split(\",\") for x in  f.readlines()]\n",
    "    coordinates = [(int(x[1]), int(x[0])) for x in coordinates]\n",
    "    first_kilobyte = coordinates[:1024]\n",
    "\n",
    "    map = create_map(first_kilobyte, N)\n",
    "    path = bfs(map, start, end)\n",
    "    answer1 = len(path) - 1\n",
    "\n",
    "    n_coordinates = len(coordinates)\n",
    "    map = create_map(coordinates[:n_coordinates], N)\n",
    "    while not bfs(map, start, end):\n",
    "        n_coordinates -= 1\n",
    "        map = create_map(coordinates[:n_coordinates], N)\n",
    "\n",
    "    fatal_coordinate = coordinates[n_coordinates]\n",
    "    answer2 = f\"{fatal_coordinate[1]},{fatal_coordinate[0]}\"\n",
    "\n",
    "    print(\"Answer 1:\", answer1)\n",
    "    print(\"Answer 2:\", answer2)\n"
   ]
  }
 ],
 "metadata": {
  "kernelspec": {
   "display_name": "base",
   "language": "python",
   "name": "python3"
  },
  "language_info": {
   "codemirror_mode": {
    "name": "ipython",
    "version": 3
   },
   "file_extension": ".py",
   "mimetype": "text/x-python",
   "name": "python",
   "nbconvert_exporter": "python",
   "pygments_lexer": "ipython3",
   "version": "3.12.7"
  }
 },
 "nbformat": 4,
 "nbformat_minor": 2
}
