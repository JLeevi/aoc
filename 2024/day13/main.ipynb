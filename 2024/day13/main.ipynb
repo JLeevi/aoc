{
 "cells": [
  {
   "cell_type": "code",
   "execution_count": null,
   "metadata": {},
   "outputs": [
    {
     "name": "stdout",
     "output_type": "stream",
     "text": [
      "Answer 1: 34787\n",
      "Answer 2: 85644161121698\n"
     ]
    }
   ],
   "source": [
    "import re\n",
    "\n",
    "input_file = \"data/input.txt\"\n",
    "\n",
    "def toint(arr):\n",
    "    return [int(x) for x in arr]\n",
    "\n",
    "def isclose(a, b):\n",
    "    diff = abs(a - b)\n",
    "    return diff < 1e-4\n",
    "\n",
    "def solve(a, b, target):\n",
    "    (ax, ay), (bx, by), (target_x, target_y) = a, b, target\n",
    "    a_price = 3\n",
    "    b_price = 1\n",
    "\n",
    "    num_b_float = (target_x - (ax / ay) * target_y) / ((-ax / ay) * by + bx)\n",
    "    num_b = round(num_b_float)\n",
    "    if isclose(num_b, num_b_float):\n",
    "        num_a = round((target_x - num_b * bx) / ax)\n",
    "        x_match = num_a * ax + num_b * bx == target_x\n",
    "        y_match = num_a * ay + num_b * by == target_y\n",
    "        if x_match and y_match:\n",
    "            cost = num_a * a_price + num_b * b_price\n",
    "            return cost\n",
    "    return None\n",
    "\n",
    "with open(input_file, 'r') as f:\n",
    "    games = f.read().split(\"\\n\\n\")\n",
    "    total_cost_1 = 0\n",
    "    total_cost_2 = 0\n",
    "    increment = 10000000000000\n",
    "\n",
    "    for game in games:\n",
    "        target = toint(re.findall(r\"(?<=\\=)\\d+\", game))\n",
    "        [ax, ay, bx, by] = toint(re.findall(r\"(?<=\\+)\\d+\", game))\n",
    "        a, b = (ax, ay), (bx, by)\n",
    "        cost = solve(a, b, target)\n",
    "        cost2 = solve(a, b, (el + increment for el in target))\n",
    "        if cost:\n",
    "            total_cost_1 += cost\n",
    "        if cost2:\n",
    "            total_cost_2 += cost2\n",
    "\n",
    "    print(f\"Answer 1: {total_cost_1}\")\n",
    "    print(f\"Answer 2: {total_cost_2}\")"
   ]
  }
 ],
 "metadata": {
  "kernelspec": {
   "display_name": "base",
   "language": "python",
   "name": "python3"
  },
  "language_info": {
   "codemirror_mode": {
    "name": "ipython",
    "version": 3
   },
   "file_extension": ".py",
   "mimetype": "text/x-python",
   "name": "python",
   "nbconvert_exporter": "python",
   "pygments_lexer": "ipython3",
   "version": "3.12.7"
  }
 },
 "nbformat": 4,
 "nbformat_minor": 2
}
