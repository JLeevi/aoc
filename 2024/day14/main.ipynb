{
 "cells": [
  {
   "cell_type": "code",
   "execution_count": 1,
   "metadata": {},
   "outputs": [],
   "source": [
    "import operator\n",
    "import re\n",
    "from functools import reduce\n",
    "from copy import deepcopy\n",
    "\n",
    "input_file = \"data/input.txt\"\n",
    "\n",
    "WIDTH = 101\n",
    "HEIGHT = 103\n",
    "\n",
    "def add(pos1, pos2):\n",
    "    return ((pos1[0] + pos2[0]) % WIDTH, (pos1[1] + pos2[1]) % HEIGHT)\n",
    "\n",
    "def multiply(pos, times):\n",
    "    return (pos[0] * times, pos[1] * times)\n",
    "\n",
    "def toint(arr):\n",
    "    return (int(arr[0]), int(arr[1]))\n",
    "\n",
    "def init_robots(input_file):\n",
    "    with open(input_file, 'r') as f:\n",
    "        lines = [l.strip() for l in f.readlines()]\n",
    "        pattern = r\"=(-?\\d+),(-?\\d+)\"\n",
    "\n",
    "        robots = []\n",
    "        for line in lines:\n",
    "            matches = re.findall(pattern, line)\n",
    "            position = toint(matches[0])\n",
    "            velocity = toint(matches[1])\n",
    "            robot = [position, velocity]\n",
    "            robots.append(robot)\n",
    "        return robots\n",
    "\n",
    "def count_score(robots):\n",
    "    quadrants = [0, 0, 0, 0]\n",
    "    mid_x, mid_y = WIDTH // 2, HEIGHT // 2\n",
    "    for (x, y), _ in robots:\n",
    "        if x == mid_x or y == mid_y: continue\n",
    "        quadrant = (x > mid_x) + 2 * (y > mid_y)\n",
    "        quadrants[quadrant] += 1\n",
    "    return reduce(operator.mul, quadrants)\n",
    "\n",
    "def is_christmas_tree(robots):\n",
    "    positions = set([robot[0] for robot in robots])\n",
    "    required_adjacent = 10\n",
    "    for x, y in positions:\n",
    "        inc = 0\n",
    "        while (x + inc, y) in positions:\n",
    "            inc += 1\n",
    "            if inc >= required_adjacent:\n",
    "                return True\n",
    "    return False"
   ]
  },
  {
   "cell_type": "code",
   "execution_count": 2,
   "metadata": {},
   "outputs": [
    {
     "name": "stdout",
     "output_type": "stream",
     "text": [
      "Answer 1: 225552000\n",
      "Answer 2: 7371\n"
     ]
    }
   ],
   "source": [
    "def after100(robots):\n",
    "    robots = deepcopy(robots)\n",
    "    for i, robot in enumerate(robots):\n",
    "        position, velocity = robot\n",
    "        new_position = add(position, multiply(velocity, 100))\n",
    "        robots[i][0] = new_position\n",
    "    return count_score(robots)\n",
    "\n",
    "def get_christmas_tree_iteration(robots):\n",
    "    robots = deepcopy(robots)\n",
    "    for iter in range(WIDTH * HEIGHT):\n",
    "        for i, robot in enumerate(robots):\n",
    "            position, velocity = robot\n",
    "            new_position = add(position, velocity)\n",
    "            robots[i][0] = new_position\n",
    "        if is_christmas_tree(robots):\n",
    "            return iter + 1\n",
    "\n",
    "robots = init_robots(input_file)\n",
    "answer1 = after100(robots)\n",
    "answer2 = get_christmas_tree_iteration(robots)\n",
    "\n",
    "print(f\"Answer 1: {answer1}\")\n",
    "print(f\"Answer 2: {answer2}\")"
   ]
  }
 ],
 "metadata": {
  "kernelspec": {
   "display_name": "base",
   "language": "python",
   "name": "python3"
  },
  "language_info": {
   "codemirror_mode": {
    "name": "ipython",
    "version": 3
   },
   "file_extension": ".py",
   "mimetype": "text/x-python",
   "name": "python",
   "nbconvert_exporter": "python",
   "pygments_lexer": "ipython3",
   "version": "3.12.7"
  }
 },
 "nbformat": 4,
 "nbformat_minor": 2
}
