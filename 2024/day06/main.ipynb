{
 "cells": [
  {
   "cell_type": "code",
   "execution_count": 1,
   "metadata": {},
   "outputs": [],
   "source": [
    "guard_dir_to_velocity = {\n",
    "    \"^\": (0, -1),\n",
    "    \">\": (1, 0),\n",
    "    \"v\": (0, 1),\n",
    "    \"<\": (-1, 0),\n",
    "}\n",
    "\n",
    "next_direction = {\n",
    "    \"^\": \">\",\n",
    "    \">\": \"v\",\n",
    "    \"v\": \"<\",\n",
    "    \"<\": \"^\",\n",
    "}\n",
    "\n",
    "def get_start_position(map):\n",
    "    N = len(map)\n",
    "    for row in range(N):\n",
    "        for col in range(N):\n",
    "            char = map[row][col]\n",
    "            if char in guard_dir_to_velocity:\n",
    "                return (col, row, char)\n",
    "\n",
    "def solve(map, start_position):\n",
    "    N = len(map)\n",
    "    guard_x, guard_y, guard_dir = start_position\n",
    "    visited_positions = set()\n",
    "\n",
    "    while True:\n",
    "        if (guard_x, guard_y, guard_dir) in visited_positions:\n",
    "            return False\n",
    "\n",
    "        visited_positions.add((guard_x, guard_y, guard_dir))\n",
    "\n",
    "        guard_velocity = guard_dir_to_velocity[guard_dir]\n",
    "        new_x = guard_x + guard_velocity[0]\n",
    "        new_y = guard_y + guard_velocity[1]\n",
    "\n",
    "        if new_x < 0 or new_x == N or new_y < 0 or new_y == N:\n",
    "            break\n",
    "\n",
    "        char = map[new_y][new_x]\n",
    "        if char == \"#\":\n",
    "            guard_dir = next_direction[guard_dir]\n",
    "        else:\n",
    "            guard_x = new_x\n",
    "            guard_y = new_y\n",
    "\n",
    "    visited_positions = set([(p[0], p[1]) for p in visited_positions])\n",
    "    return visited_positions"
   ]
  },
  {
   "cell_type": "code",
   "execution_count": 2,
   "metadata": {},
   "outputs": [
    {
     "name": "stdout",
     "output_type": "stream",
     "text": [
      "Answer 1: 4826\n",
      "Answer 2: 1721\n"
     ]
    }
   ],
   "source": [
    "input_file = \"data/input.txt\"\n",
    "\n",
    "with open(input_file, 'r') as f:\n",
    "    lines = [line.strip() for line in f.readlines()]\n",
    "\n",
    "start_position = get_start_position(lines)\n",
    "visited_positions = solve(lines, start_position)\n",
    "\n",
    "infinite_loop_count = 0\n",
    "\n",
    "for (x, y) in visited_positions:\n",
    "    lines_copy = lines.copy()\n",
    "    row = lines_copy[y]\n",
    "    char = row[x]\n",
    "\n",
    "    if char in guard_dir_to_velocity:\n",
    "        continue\n",
    "\n",
    "    new_row = row[:x] + \"#\" + row[x+1:]\n",
    "    lines_copy[y] = new_row\n",
    "    if not solve(lines_copy, start_position):\n",
    "        infinite_loop_count += 1\n",
    "\n",
    "\n",
    "print(f\"Answer 1: {len(visited_positions)}\")\n",
    "print(f\"Answer 2: {infinite_loop_count}\")"
   ]
  }
 ],
 "metadata": {
  "kernelspec": {
   "display_name": "base",
   "language": "python",
   "name": "python3"
  },
  "language_info": {
   "codemirror_mode": {
    "name": "ipython",
    "version": 3
   },
   "file_extension": ".py",
   "mimetype": "text/x-python",
   "name": "python",
   "nbconvert_exporter": "python",
   "pygments_lexer": "ipython3",
   "version": "3.12.7"
  }
 },
 "nbformat": 4,
 "nbformat_minor": 2
}
