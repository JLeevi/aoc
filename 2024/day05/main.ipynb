{
 "cells": [
  {
   "cell_type": "code",
   "execution_count": 1,
   "metadata": {},
   "outputs": [],
   "source": [
    "input_file = \"data/input.txt\"\n",
    "\n",
    "def get_rules_and_updates():\n",
    "    with open(input_file, 'r') as f:\n",
    "        rules, updates = f.read().split(\"\\n\\n\")\n",
    "    rules = [tuple(map(int, r.split(\"|\"))) for r in rules.splitlines()]\n",
    "    updates = [list(map(int, u.split(\",\"))) for u in updates.splitlines()]\n",
    "    return rules, updates\n"
   ]
  },
  {
   "cell_type": "code",
   "execution_count": 2,
   "metadata": {},
   "outputs": [],
   "source": [
    "rules, updates = get_rules_and_updates()"
   ]
  },
  {
   "cell_type": "code",
   "execution_count": 3,
   "metadata": {},
   "outputs": [],
   "source": [
    "from collections import defaultdict\n",
    "\n",
    "predecessors_for_number = defaultdict(list)\n",
    "for predecessor, successor in rules:\n",
    "    predecessors_for_number[successor].append(predecessor)"
   ]
  },
  {
   "cell_type": "code",
   "execution_count": null,
   "metadata": {},
   "outputs": [
    {
     "name": "stdout",
     "output_type": "stream",
     "text": [
      "Answer 1:  5064\n",
      "Answer 2:  5152\n"
     ]
    }
   ],
   "source": [
    "import functools\n",
    "\n",
    "def custom_sort(a, b):\n",
    "    return -(a in predecessors_for_number[b])\n",
    "\n",
    "good_update_mid_sum = 0\n",
    "bad_update_mid_sum = 0\n",
    "\n",
    "for update in updates:\n",
    "    mid = int(len(update) / 2)\n",
    "    corrected = sorted(update, key=functools.cmp_to_key(custom_sort))\n",
    "    if corrected == update:\n",
    "        good_update_mid_sum += update[mid]\n",
    "    else:\n",
    "        bad_update_mid_sum += corrected[mid]\n",
    "\n",
    "print(\"Answer 1: \", good_update_mid_sum)\n",
    "print(\"Answer 2: \", bad_update_mid_sum)"
   ]
  }
 ],
 "metadata": {
  "kernelspec": {
   "display_name": "base",
   "language": "python",
   "name": "python3"
  },
  "language_info": {
   "codemirror_mode": {
    "name": "ipython",
    "version": 3
   },
   "file_extension": ".py",
   "mimetype": "text/x-python",
   "name": "python",
   "nbconvert_exporter": "python",
   "pygments_lexer": "ipython3",
   "version": "3.12.7"
  }
 },
 "nbformat": 4,
 "nbformat_minor": 2
}
