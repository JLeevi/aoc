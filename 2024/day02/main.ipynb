{
 "cells": [
  {
   "cell_type": "code",
   "execution_count": null,
   "metadata": {},
   "outputs": [],
   "source": [
    "def is_safe(level):\n",
    "    MIN_DIFFERENCE = 1\n",
    "    MAX_DIFFERENCE = 3\n",
    "\n",
    "    differences = [level[i] - level[i-1] for i in range(1, len(level))]\n",
    "    all_increasing = all(map(lambda d: d > 0, differences))\n",
    "    all_decreasing = all(map(lambda d: d < 0, differences))\n",
    "    if not (all_increasing or all_decreasing):\n",
    "        return False\n",
    "\n",
    "    abs_differences = map(abs, differences)\n",
    "    all_within_bounds = all(\n",
    "        map(\n",
    "            lambda d: d >= MIN_DIFFERENCE and d <= MAX_DIFFERENCE,\n",
    "            abs_differences\n",
    "        )\n",
    "    )\n",
    "    return all_within_bounds\n",
    "\n",
    "def get_all_variations(array):\n",
    "    n = len(array)\n",
    "    return [\n",
    "        without_index(array, i)\n",
    "        for i in range(n)\n",
    "    ]\n",
    "\n",
    "def without_index(array, index):\n",
    "    return array[:index] + array[index+1:]"
   ]
  },
  {
   "cell_type": "code",
   "execution_count": 2,
   "metadata": {},
   "outputs": [
    {
     "name": "stdout",
     "output_type": "stream",
     "text": [
      "Answer 1: 432\n",
      "Answer 2: 488\n"
     ]
    }
   ],
   "source": [
    "input_file = \"data/input.txt\"\n",
    "\n",
    "with open(input_file, 'r') as f:\n",
    "    reports = [line.strip() for line in f.readlines()]\n",
    "    levels = [line.split() for line in reports]\n",
    "    levels = [[int(n) for n in level] for level in levels]\n",
    "    is_safe_per_level = list(map(is_safe, levels))\n",
    "\n",
    "    safety_count = sum(is_safe_per_level)\n",
    "    safety_count_with_variations = safety_count\n",
    "\n",
    "    for level_index, safe in enumerate(is_safe_per_level):\n",
    "        if not safe:\n",
    "            level = levels[level_index]\n",
    "            variations = get_all_variations(level)\n",
    "            any_variation_safe = any(map(is_safe, variations))\n",
    "            if any_variation_safe:\n",
    "                safety_count_with_variations += 1\n",
    "\n",
    "    print(f\"Answer 1: {safety_count}\")\n",
    "    print(f\"Answer 2: {safety_count_with_variations}\")"
   ]
  }
 ],
 "metadata": {
  "kernelspec": {
   "display_name": "base",
   "language": "python",
   "name": "python3"
  },
  "language_info": {
   "codemirror_mode": {
    "name": "ipython",
    "version": 3
   },
   "file_extension": ".py",
   "mimetype": "text/x-python",
   "name": "python",
   "nbconvert_exporter": "python",
   "pygments_lexer": "ipython3",
   "version": "3.12.7"
  }
 },
 "nbformat": 4,
 "nbformat_minor": 2
}
