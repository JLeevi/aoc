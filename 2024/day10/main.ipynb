{
 "cells": [
  {
   "cell_type": "code",
   "execution_count": null,
   "metadata": {},
   "outputs": [
    {
     "name": "stdout",
     "output_type": "stream",
     "text": [
      "Answer 1: 682\n",
      "Answer 2: 1511\n"
     ]
    }
   ],
   "source": [
    "input_file = \"data/input.txt\"\n",
    "\n",
    "UP = (-1, 0)\n",
    "RIGHT = (0, 1)\n",
    "DOWN = (1, 0)\n",
    "LEFT = (0, -1)\n",
    "\n",
    "def get_element_at_position(position, matrix):\n",
    "    return matrix[position[0]][position[1]]\n",
    "\n",
    "def add(pos1, pos2):\n",
    "    return (pos1[0] + pos2[0], pos1[1] + pos2[1])\n",
    "\n",
    "def within_bounds(position, N):\n",
    "    return all(0 <= el < N for el in position)\n",
    "\n",
    "def traverse(position, matrix, end_set):\n",
    "    current_level = get_element_at_position(position, matrix)\n",
    "    if current_level == 9:\n",
    "        end_set.append(position)\n",
    "        return\n",
    "\n",
    "    N = len(matrix)\n",
    "    for direction in [UP, RIGHT, DOWN, LEFT]:\n",
    "        new_position = add(position, direction)\n",
    "        if within_bounds(new_position, N):\n",
    "            new_level = get_element_at_position(new_position, matrix)\n",
    "            if new_level == current_level + 1:\n",
    "                traverse(new_position, matrix, end_set)\n",
    "\n",
    "with open(input_file, 'r') as f:\n",
    "    lines = [l.strip() for l in f.readlines()]\n",
    "    matrix = [[int(n) for n in line] for line in lines]\n",
    "\n",
    "    score_sum = 0\n",
    "    rating_sum = 0\n",
    "    for i, row in enumerate(matrix):\n",
    "        for j, number in enumerate(row):\n",
    "            if number == 0:\n",
    "                trails = []\n",
    "                traverse((i, j), matrix, trails)\n",
    "                rating = len(trails)\n",
    "                rating_sum += rating\n",
    "                score = len(set(trails))\n",
    "                score_sum += score\n",
    "\n",
    "    print(f\"Answer 1: {score_sum}\")\n",
    "    print(f\"Answer 2: {rating_sum}\")\n",
    "    "
   ]
  }
 ],
 "metadata": {
  "kernelspec": {
   "display_name": "base",
   "language": "python",
   "name": "python3"
  },
  "language_info": {
   "codemirror_mode": {
    "name": "ipython",
    "version": 3
   },
   "file_extension": ".py",
   "mimetype": "text/x-python",
   "name": "python",
   "nbconvert_exporter": "python",
   "pygments_lexer": "ipython3",
   "version": "3.12.7"
  }
 },
 "nbformat": 4,
 "nbformat_minor": 2
}
