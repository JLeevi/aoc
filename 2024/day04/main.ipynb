{
 "cells": [
  {
   "cell_type": "code",
   "execution_count": 1,
   "metadata": {},
   "outputs": [],
   "source": [
    "def get_diagonals(pattern):\n",
    "    N = len(pattern)\n",
    "    diagonals = []\n",
    "    for start in range(N):\n",
    "        diagonals.append(''.join(pattern[start - i][i] for i in range(start + 1)))\n",
    "    for start in range(1, N):\n",
    "        diagonals.append(''.join(pattern[N - 1 - i][start + i] for i in range(N - start)))\n",
    "    return diagonals\n",
    "\n",
    "def transpose(pattern):\n",
    "    return [''.join(row) for row in zip(*pattern)]\n",
    "\n",
    "def find_x_shape_count(pattern):\n",
    "    N = len(pattern)\n",
    "    valid_diagonals = [\"SAM\", \"MAS\"]\n",
    "    x_count = 0\n",
    "    for row in range(N - 2):\n",
    "        for col in range(N - 2):\n",
    "            diagonal_1 = pattern[row][col] + pattern[row + 1][col + 1] + pattern[row + 2][col + 2]\n",
    "            diagonal_2 = pattern[row][col + 2] + pattern[row + 1][col + 1] + pattern[row + 2][col]\n",
    "            if (diagonal_1 in valid_diagonals) and (diagonal_2 in valid_diagonals):\n",
    "                x_count += 1\n",
    "    return x_count\n",
    "\n",
    "def join_string_arrays(string_arrays):\n",
    "    return \" \".join([\" \".join(a) for a in string_arrays])"
   ]
  },
  {
   "cell_type": "code",
   "execution_count": 2,
   "metadata": {},
   "outputs": [
    {
     "name": "stdout",
     "output_type": "stream",
     "text": [
      "Answer 1: 2344\n",
      "Answer 2: 1815\n"
     ]
    }
   ],
   "source": [
    "import re\n",
    "input_file = \"data/input.txt\"\n",
    "\n",
    "with open(input_file, 'r') as f:\n",
    "    horizontal = [line.strip() for line in f.readlines()]\n",
    "    horizontal_reverse = [line[::-1] for line in horizontal]\n",
    "    vertical = transpose(horizontal)\n",
    "    diagonals = get_diagonals(horizontal)\n",
    "    diagonals_2 = get_diagonals(horizontal_reverse)\n",
    "\n",
    "    complete_string = join_string_arrays([horizontal, vertical, diagonals, diagonals_2])\n",
    "\n",
    "    xmas_count = len(re.findall(r\"XMAS\", complete_string))\n",
    "    xmas_count += len(re.findall(r\"SAMX\", complete_string))\n",
    "\n",
    "    x_shape_count = find_x_shape_count(horizontal)\n",
    "\n",
    "    print(f\"Answer 1: {xmas_count}\")\n",
    "    print(f\"Answer 2: {x_shape_count}\")"
   ]
  }
 ],
 "metadata": {
  "kernelspec": {
   "display_name": "base",
   "language": "python",
   "name": "python3"
  },
  "language_info": {
   "codemirror_mode": {
    "name": "ipython",
    "version": 3
   },
   "file_extension": ".py",
   "mimetype": "text/x-python",
   "name": "python",
   "nbconvert_exporter": "python",
   "pygments_lexer": "ipython3",
   "version": "3.12.7"
  }
 },
 "nbformat": 4,
 "nbformat_minor": 2
}
