{
 "cells": [
  {
   "cell_type": "code",
   "execution_count": 1,
   "metadata": {},
   "outputs": [
    {
     "name": "stdout",
     "output_type": "stream",
     "text": [
      "Answer 1: 340\n",
      "Answer 2: 717561822679428\n"
     ]
    }
   ],
   "source": [
    "from collections import defaultdict\n",
    "\n",
    "input_file = \"data/input.txt\"\n",
    "\n",
    "cache = defaultdict(int)\n",
    "\n",
    "def count_ways(towels, design):\n",
    "    if design in cache:\n",
    "        return cache[design]\n",
    "\n",
    "    if len(design) == 0:\n",
    "        return 1\n",
    "\n",
    "    total = 0\n",
    "    for towel in towels:\n",
    "        if towel == design[:len(towel)]:\n",
    "            remaining = design[len(towel):]\n",
    "            ways = count_ways(towels, remaining)\n",
    "            cache[remaining] = ways\n",
    "            total += ways\n",
    "\n",
    "    cache[design] = total\n",
    "    return total\n",
    "\n",
    "with open(input_file, 'r') as f:\n",
    "    [towels, designs] = f.read().split(\"\\n\\n\")\n",
    "    towels = [x for x in towels.split(\", \")]\n",
    "    designs = [x.strip() for x in designs.split()]\n",
    "    possible_designs = 0\n",
    "    total_ways = 0\n",
    "    for design in designs:\n",
    "        ways = count_ways(towels, design)\n",
    "        possible_designs += min(1, ways)\n",
    "        total_ways += ways\n",
    "    \n",
    "    print(f\"Answer 1: {possible_designs}\")\n",
    "    print(f\"Answer 2: {total_ways}\")"
   ]
  }
 ],
 "metadata": {
  "kernelspec": {
   "display_name": "base",
   "language": "python",
   "name": "python3"
  },
  "language_info": {
   "codemirror_mode": {
    "name": "ipython",
    "version": 3
   },
   "file_extension": ".py",
   "mimetype": "text/x-python",
   "name": "python",
   "nbconvert_exporter": "python",
   "pygments_lexer": "ipython3",
   "version": "3.12.7"
  }
 },
 "nbformat": 4,
 "nbformat_minor": 2
}
