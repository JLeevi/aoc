{
 "cells": [
  {
   "cell_type": "code",
   "execution_count": 1,
   "metadata": {},
   "outputs": [],
   "source": [
    "from collections import defaultdict\n",
    "\n",
    "input_file = \"data/input.txt\"\n",
    "\n",
    "def read_number_lists_from_file(input_file_path):\n",
    "    with open(input_file_path, 'r') as f:\n",
    "        lines = [line.strip() for line in f.readlines()]\n",
    "        first_numbers = [int(line.split()[0]) for line in lines]\n",
    "        second_numbers = [int(line.split()[-1]) for line in lines]\n",
    "        return first_numbers, second_numbers\n",
    "\n",
    "def calculate_distances_between_numbers(first_numbers, second_numbers):\n",
    "    distances = [\n",
    "        abs(second - first)\n",
    "        for first, second\n",
    "        in zip(first_numbers, second_numbers)\n",
    "    ]\n",
    "    return distances\n",
    "\n",
    "def build_occurence_count_per_number_dict(numbers):\n",
    "    occurence_count = defaultdict(int)\n",
    "    for number in numbers:\n",
    "        occurence_count[number] += 1\n",
    "    return occurence_count\n",
    "\n",
    "def calculate_similarity_counts(occurence_count, numbers):\n",
    "    similarity_counts = [\n",
    "        occurence_count[number] * number\n",
    "        for number in numbers\n",
    "    ]\n",
    "    return similarity_counts"
   ]
  },
  {
   "cell_type": "code",
   "execution_count": 2,
   "metadata": {},
   "outputs": [
    {
     "name": "stdout",
     "output_type": "stream",
     "text": [
      "Answer 1: 2970687\n",
      "Answer 2: 23963899\n"
     ]
    }
   ],
   "source": [
    "first_numbers, second_numbers = read_number_lists_from_file(input_file)\n",
    "first_numbers = sorted(first_numbers)\n",
    "second_numbers = sorted(second_numbers)\n",
    "\n",
    "distances = calculate_distances_between_numbers(first_numbers, second_numbers)\n",
    "sum_of_distances = sum(distances)\n",
    "\n",
    "occurence_count = build_occurence_count_per_number_dict(second_numbers)\n",
    "similarity_counts = calculate_similarity_counts(occurence_count, first_numbers)\n",
    "similarity_sum = sum(similarity_counts)\n",
    "\n",
    "print(f\"Answer 1: {sum_of_distances}\")\n",
    "print(f\"Answer 2: {similarity_sum}\")"
   ]
  }
 ],
 "metadata": {
  "kernelspec": {
   "display_name": "base",
   "language": "python",
   "name": "python3"
  },
  "language_info": {
   "codemirror_mode": {
    "name": "ipython",
    "version": 3
   },
   "file_extension": ".py",
   "mimetype": "text/x-python",
   "name": "python",
   "nbconvert_exporter": "python",
   "pygments_lexer": "ipython3",
   "version": "3.12.7"
  }
 },
 "nbformat": 4,
 "nbformat_minor": 2
}
