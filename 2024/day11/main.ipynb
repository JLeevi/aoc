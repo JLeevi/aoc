{
 "cells": [
  {
   "cell_type": "code",
   "execution_count": 1,
   "metadata": {},
   "outputs": [],
   "source": [
    "from collections import defaultdict\n",
    "\n",
    "def clear_leading_zeros(str_number):\n",
    "    stripped = str_number.lstrip(\"0\")\n",
    "    return int(stripped) if stripped else 0\n",
    "\n",
    "def calculate_split(number):\n",
    "    if number == 0:\n",
    "        return [1]\n",
    "\n",
    "    str_number = str(number)\n",
    "    n = len(str_number)\n",
    "    if n % 2 == 0:\n",
    "        half = n // 2\n",
    "        left = int(str_number[:half])\n",
    "        right = clear_leading_zeros(str_number[half:])\n",
    "        return [left, right]\n",
    "\n",
    "    return [number * 2024]\n",
    "\n",
    "def iterate_counts(counts):\n",
    "    new_counts = defaultdict(int)\n",
    "    for number in counts:\n",
    "        result = calculate_split(number)\n",
    "        for number2 in result:\n",
    "            new_counts[number2] += counts[number]\n",
    "    return new_counts"
   ]
  },
  {
   "cell_type": "code",
   "execution_count": 2,
   "metadata": {},
   "outputs": [
    {
     "name": "stdout",
     "output_type": "stream",
     "text": [
      "Answer 1: 233875\n",
      "Answer 2: 277444936413293\n"
     ]
    }
   ],
   "source": [
    "input_file = \"data/input.txt\"\n",
    "\n",
    "with open(input_file, 'r') as f:\n",
    "    numbers = f.read()\n",
    "    numbers = [int(x) for x in numbers.split()]\n",
    "    \n",
    "    counts = defaultdict(int)\n",
    "    for number in numbers:\n",
    "        counts[number] += 1\n",
    "\n",
    "    iterations1 = 25\n",
    "    iterations2 = 75\n",
    "\n",
    "    for _ in range(iterations1):\n",
    "        counts = iterate_counts(counts)\n",
    "    answer1 = sum(counts.values())\n",
    "\n",
    "    for _ in range(iterations2 - iterations1):\n",
    "        counts = iterate_counts(counts)\n",
    "    answer2 = sum(counts.values())\n",
    "\n",
    "    print(f\"Answer 1: {answer1}\")\n",
    "    print(f\"Answer 2: {answer2}\")"
   ]
  }
 ],
 "metadata": {
  "kernelspec": {
   "display_name": "base",
   "language": "python",
   "name": "python3"
  },
  "language_info": {
   "codemirror_mode": {
    "name": "ipython",
    "version": 3
   },
   "file_extension": ".py",
   "mimetype": "text/x-python",
   "name": "python",
   "nbconvert_exporter": "python",
   "pygments_lexer": "ipython3",
   "version": "3.12.7"
  }
 },
 "nbformat": 4,
 "nbformat_minor": 2
}
