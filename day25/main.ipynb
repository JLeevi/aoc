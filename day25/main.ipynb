{
 "cells": [
  {
   "cell_type": "code",
   "execution_count": 1,
   "metadata": {},
   "outputs": [
    {
     "name": "stdout",
     "output_type": "stream",
     "text": [
      "ans = 547410\n"
     ]
    }
   ],
   "source": [
    "from collections import defaultdict\n",
    "\n",
    "input_file = \"data/input.txt\"\n",
    "\n",
    "with open(input_file, 'r') as f:\n",
    "    lines = [l.strip() for l in f.readlines()]\n",
    "    edges = defaultdict(lambda: set())\n",
    "\n",
    "    all_edges = []\n",
    "    all_nodes = set()\n",
    "\n",
    "    for l in lines:\n",
    "        node, connections = l.split(\":\")\n",
    "        connections = connections.split()\n",
    "        for c in connections:\n",
    "            edges[c].add(node)\n",
    "            edges[node].add(c)\n",
    "            all_nodes.add(c)\n",
    "            all_nodes.add(node)\n",
    "            if (c, node) not in all_edges and (node, c) not in all_edges:\n",
    "                all_edges.append((c, node))\n",
    "\n",
    "    count = lambda v: len(edges[v] - all_nodes)\n",
    "    while sum(map(count, all_nodes)) != 3:\n",
    "        all_nodes.remove(max(all_nodes, key=count))\n",
    "\n",
    "    ans = len(all_nodes) * len(set(edges)-all_nodes)\n",
    "    print(f\"{ans = }\")"
   ]
  }
 ],
 "metadata": {
  "kernelspec": {
   "display_name": "base",
   "language": "python",
   "name": "python3"
  },
  "language_info": {
   "codemirror_mode": {
    "name": "ipython",
    "version": 3
   },
   "file_extension": ".py",
   "mimetype": "text/x-python",
   "name": "python",
   "nbconvert_exporter": "python",
   "pygments_lexer": "ipython3",
   "version": "3.9.7"
  }
 },
 "nbformat": 4,
 "nbformat_minor": 2
}
