{
 "cells": [
  {
   "cell_type": "code",
   "execution_count": 1,
   "metadata": {},
   "outputs": [
    {
     "name": "stdout",
     "output_type": "stream",
     "text": [
      "ans1 = 506269\n",
      "ans2 = 264021\n"
     ]
    }
   ],
   "source": [
    "from collections import defaultdict\n",
    "\n",
    "input_file = \"data/input.txt\"\n",
    "\n",
    "def get_hash(string):\n",
    "    current = 0\n",
    "    for char in string:\n",
    "        current = 17 * (current + ord(char)) % 256\n",
    "    return current\n",
    "\n",
    "def split_step(step):\n",
    "    if \"=\" in step:\n",
    "        label, focal = step.split(\"=\")\n",
    "        return label, int(focal)\n",
    "    else:\n",
    "        label, _ = step.split(\"-\")\n",
    "        return label, None\n",
    "\n",
    "def focusing_power(boxes):\n",
    "    total = 0\n",
    "    for box in boxes:\n",
    "        for slot, (_, focal_length) in enumerate(boxes[box]):\n",
    "            total += (box + 1) * (slot + 1) * focal_length\n",
    "    return total\n",
    "\n",
    "with open(input_file, 'r') as f:\n",
    "    line = f.read().strip()\n",
    "    steps = line.split(\",\")\n",
    "\n",
    "    ans1 = 0\n",
    "    boxes = defaultdict(list)\n",
    "\n",
    "    for step in steps:\n",
    "        ans1 += get_hash(step)\n",
    "\n",
    "        label, focal_length = split_step(step)\n",
    "        box = get_hash(label)\n",
    "        existing_index = next((i for i, x in enumerate(boxes[box]) if x[0] == label), None)\n",
    "\n",
    "        if focal_length:\n",
    "            if existing_index != None:\n",
    "                boxes[box][existing_index] = (label, focal_length)\n",
    "            else:\n",
    "                boxes[box].append((label, focal_length))\n",
    "        else:\n",
    "            if existing_index != None:\n",
    "                boxes[box] = boxes[box][:existing_index] + boxes[box][existing_index+1:]\n",
    "\n",
    "    ans2 = focusing_power(boxes)\n",
    "    print(f\"{ans1 = }\")\n",
    "    print(f\"{ans2 = }\")"
   ]
  }
 ],
 "metadata": {
  "kernelspec": {
   "display_name": "base",
   "language": "python",
   "name": "python3"
  },
  "language_info": {
   "codemirror_mode": {
    "name": "ipython",
    "version": 3
   },
   "file_extension": ".py",
   "mimetype": "text/x-python",
   "name": "python",
   "nbconvert_exporter": "python",
   "pygments_lexer": "ipython3",
   "version": "3.9.7"
  }
 },
 "nbformat": 4,
 "nbformat_minor": 2
}
